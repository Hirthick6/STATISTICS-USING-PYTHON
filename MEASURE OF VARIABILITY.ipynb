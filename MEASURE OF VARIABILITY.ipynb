{
 "cells": [
  {
   "cell_type": "code",
   "execution_count": 5,
   "id": "c4507b5a",
   "metadata": {},
   "outputs": [],
   "source": [
    "import numpy as py\n",
    "import math"
   ]
  },
  {
   "cell_type": "code",
   "execution_count": 6,
   "id": "4a5ae803",
   "metadata": {},
   "outputs": [
    {
     "name": "stdout",
     "output_type": "stream",
     "text": [
      "SORTED [3310 3355 3450 3480 3480 3490 3520 3540 3550 3650 3730 3925]\n"
     ]
    }
   ],
   "source": [
    "per=py.array([3450,3550,3650,3480,3355,3310,3490,3730,3540,3925,3520,3480])\n",
    "per.sort()\n",
    "print(\"SORTED\",per)"
   ]
  },
  {
   "cell_type": "code",
   "execution_count": 7,
   "id": "526cd50b",
   "metadata": {},
   "outputs": [
    {
     "name": "stdout",
     "output_type": "stream",
     "text": [
      "Enter the Percentile required : 99\n",
      "3925\n"
     ]
    }
   ],
   "source": [
    "p = 99\n",
    "i = p * len(per) / 100\n",
    "\n",
    "if i.is_integer():\n",
    "    x = (per[int(i-1)] + per[int(i)]) / 2\n",
    "    print(int(x))\n",
    "\n",
    "else:\n",
    "    x = math.ceil(i)\n",
    "    print(per[x-1])"
   ]
  },
  {
   "cell_type": "code",
   "execution_count": 8,
   "id": "9ad973c8",
   "metadata": {},
   "outputs": [
    {
     "name": "stdout",
     "output_type": "stream",
     "text": [
      " percentile--->  3925\n"
     ]
    }
   ],
   "source": [
    "p = 99\n",
    "i = p * len(per) / 100\n",
    "\n",
    "if i.is_integer():\n",
    "    x = (per[int(i-1)] + per[int(i)]) / 2\n",
    "    print(int(x))\n",
    "\n",
    "else:\n",
    "    x = math.ceil(i)\n",
    "    print(per[x-1]"
   ]
  },
  {
   "cell_type": "code",
   "execution_count": null,
   "id": "74ba60ae",
   "metadata": {},
   "outputs": [],
   "source": [
    "per=py.array([3450,3550,3650,3480,3355,3310,3490,3730,3540,3925,3520,3480])\n",
    "per.sort()\n",
    "print(\"SORTED\",per)\n",
    "x=int(input(\"enter the quartile % :\"))\n",
    "if(x==25 or x==75):\n",
    "    i = x * len(per) / 100\n",
    "    if i.is_integer():\n",
    "        x = (per[int(i-1)] + per[int(i)]) / 2\n",
    "        print(int(x))\n",
    "\n",
    "    else:\n",
    "        x = math.ceil(i)\n",
    "        print(per[x-1])\n",
    "elif(x==50):\n",
    "    b=py.size(per)\n",
    "    if(b%2==0):\n",
    "        a1=per[b//2]\n",
    "        a2=per[b//2-1]\n",
    "        a3=(a1+a2)/2 \n",
    "        print(a3)\n",
    "    else:\n",
    "        a3=per[b//2]\n",
    "        print(a3)   "
   ]
  },
  {
   "cell_type": "code",
   "execution_count": null,
   "id": "44f1b21b",
   "metadata": {},
   "outputs": [],
   "source": []
  },
  {
   "cell_type": "markdown",
   "id": "5b076f12",
   "metadata": {},
   "source": [
    "# range"
   ]
  },
  {
   "cell_type": "code",
   "execution_count": null,
   "id": "8f439e65",
   "metadata": {},
   "outputs": [],
   "source": [
    "x=py.array([3450,3550,3650,3480,3355,3310,3490,3730,3540,3925,3520,3480])\n",
    "x.sort()\n",
    "print(\"SORTED\",x)\n",
    "\n",
    "minx=py.min(x)\n",
    "print(\"least element :\",minx)\n",
    "maxx=py.max(x)\n",
    "print(\"greatest element :\",maxx)\n",
    "r=maxx-minx\n",
    "print(\"range :\",r)"
   ]
  },
  {
   "cell_type": "markdown",
   "id": "9afd3964",
   "metadata": {},
   "source": [
    "# inter quartile"
   ]
  },
  {
   "cell_type": "code",
   "execution_count": 25,
   "id": "9d13a58d",
   "metadata": {},
   "outputs": [
    {
     "name": "stdout",
     "output_type": "stream",
     "text": [
      "SORTED [3310 3355 3450 3480 3480 3490 3520 3540 3550 3650 3730 3925]\n",
      "enter a quartile % :25\n",
      "3465\n",
      "enter a quartile % :75\n",
      "3600\n",
      "interquartile : 135.0\n"
     ]
    }
   ],
   "source": [
    "per=py.array([3450,3550,3650,3480,3355,3310,3490,3730,3540,3925,3520,3480])\n",
    "per.sort()\n",
    "print(\"SORTED\",per)\n",
    "a=0\n",
    "b=0\n",
    "for i in range(0,2):\n",
    "    x=int(input(\"enter a quartile % :\"))\n",
    "    if(x==25):\n",
    "        i = x * len(per) / 100\n",
    "        if i.is_integer():\n",
    "            x = (per[int(i-1)] + per[int(i)]) / 2\n",
    "            a=x\n",
    "            print(int(a))\n",
    "    elif(x==75):\n",
    "         i = x * len(per) / 100\n",
    "         if i.is_integer():\n",
    "            x = (per[int(i-1)] + per[int(i)]) / 2\n",
    "            b=x\n",
    "            print(int(b))\n",
    "z=b-a     \n",
    "print(\"interquartile :\",z)"
   ]
  },
  {
   "cell_type": "markdown",
   "id": "58e987ab",
   "metadata": {},
   "source": [
    "# variance"
   ]
  },
  {
   "cell_type": "code",
   "execution_count": 1,
   "id": "4145e44c",
   "metadata": {},
   "outputs": [
    {
     "name": "stdout",
     "output_type": "stream",
     "text": [
      " squared deviation  : 256.0\n",
      "variance : 64.0\n"
     ]
    }
   ],
   "source": [
    "import numpy as py\n",
    "x=py.array([46,54,42,46,32])\n",
    "xb=sum(x)/len(x)\n",
    "n=len(x)\n",
    "v=0\n",
    "for i in range(n):\n",
    "    v+=(x[i]-xb)**2\n",
    "print(\" squared deviation  :\",v)\n",
    "v=v/(n-1)\n",
    "print(\"variance :\",v)"
   ]
  },
  {
   "cell_type": "markdown",
   "id": "f7aa57b3",
   "metadata": {},
   "source": [
    "# standard deviation"
   ]
  },
  {
   "cell_type": "code",
   "execution_count": 2,
   "id": "fe8ea06c",
   "metadata": {},
   "outputs": [
    {
     "name": "stdout",
     "output_type": "stream",
     "text": [
      "standard deviation : 8.0\n"
     ]
    }
   ],
   "source": [
    "import math\n",
    "SD=math.sqrt(v)\n",
    "print(\"standard deviation :\",SD)"
   ]
  },
  {
   "cell_type": "markdown",
   "id": "08c9773e",
   "metadata": {},
   "source": [
    "# z-score"
   ]
  },
  {
   "cell_type": "code",
   "execution_count": 4,
   "id": "474cf445",
   "metadata": {},
   "outputs": [
    {
     "name": "stdout",
     "output_type": "stream",
     "text": [
      "standard deviation : 8.0\n",
      "z_score : 0.25\n",
      "z-score > 0 - greater than mean\n",
      "z_score : 1.25\n",
      "z-score > 0 - greater than mean\n",
      "z_score : -0.25\n",
      "z-score < 0 - lesser than mean\n",
      "z_score : 0.25\n",
      "z-score > 0 - greater than mean\n",
      "z_score : -1.5\n",
      "z-score < 0 - lesser than mean\n",
      "18.181818181818183\n"
     ]
    }
   ],
   "source": [
    "import math\n",
    "SD=math.sqrt(v)\n",
    "print(\"standard deviation :\",SD)\n",
    "\n",
    "x=py.array([46,54,42,46,32])\n",
    "xb=sum(x)/len(x)\n",
    "n=len(x)\n",
    "for i in range(n):\n",
    "    z=(x[i]-xb)\n",
    "    z=z/SD\n",
    "    print(\"z_score :\",z)\n",
    "    if(z>0):\n",
    "        print(\"z-score > 0 - greater than mean\")\n",
    "    elif(z<0):\n",
    "        print(\"z-score < 0 - lesser than mean\")\n",
    "    else:\n",
    "         print(\"z-score = 0 - equals mean\") \n",
    "COV = (SD / xb) * 100\n",
    "print(COV)"
   ]
  },
  {
   "cell_type": "markdown",
   "id": "aef5459c",
   "metadata": {},
   "source": [
    "# covariance "
   ]
  },
  {
   "cell_type": "code",
   "execution_count": 62,
   "id": "d404981f",
   "metadata": {},
   "outputs": [
    {
     "name": "stdout",
     "output_type": "stream",
     "text": [
      "   week  commers  sales vol\n",
      "0     1        2         50\n",
      "1     2        5         57\n",
      "2     3        1         41\n",
      "3     4        3         54\n",
      "4     5        4         54\n",
      "5     6        1         38\n",
      "6     7        5         63\n",
      "7     8        3         48\n",
      "8     9        4         59\n",
      "9    10        2         46\n",
      "\n",
      "mean of x : 3.0\n",
      "mean of y : 51.0\n",
      "covariance : 11.0\n"
     ]
    }
   ],
   "source": [
    "import pandas as pd\n",
    "df=pd.read_excel(\"sales.xlsx\")\n",
    "print(df)\n",
    "\n",
    "x=df['commers']\n",
    "y=df['sales vol']\n",
    "\n",
    "n=len(x)\n",
    "\n",
    "xb=sum(x)/len(x)\n",
    "print(\"\\nmean of x :\",xb)\n",
    "\n",
    "yb=sum(y)/len(y)\n",
    "print(\"mean of y :\",yb)\n",
    "\n",
    "s=0\n",
    "for i in range(n):\n",
    "    s+=(x[i]-xb)*(y[i]-yb)\n",
    "s=s/(n-1)\n",
    "print(\"covariance :\",s)"
   ]
  },
  {
   "cell_type": "code",
   "execution_count": null,
   "id": "2defc73e",
   "metadata": {},
   "outputs": [],
   "source": []
  }
 ],
 "metadata": {
  "kernelspec": {
   "display_name": "Python 3 (ipykernel)",
   "language": "python",
   "name": "python3"
  },
  "language_info": {
   "codemirror_mode": {
    "name": "ipython",
    "version": 3
   },
   "file_extension": ".py",
   "mimetype": "text/x-python",
   "name": "python",
   "nbconvert_exporter": "python",
   "pygments_lexer": "ipython3",
   "version": "3.9.12"
  }
 },
 "nbformat": 4,
 "nbformat_minor": 5
}

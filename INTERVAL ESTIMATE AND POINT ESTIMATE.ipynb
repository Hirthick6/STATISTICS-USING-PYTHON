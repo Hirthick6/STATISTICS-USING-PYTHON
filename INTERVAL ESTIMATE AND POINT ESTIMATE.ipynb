{
 "cells": [
  {
   "cell_type": "code",
   "execution_count": 5,
   "id": "e27890a1",
   "metadata": {},
   "outputs": [],
   "source": [
    "import pandas as pd\n",
    "import numpy as py"
   ]
  },
  {
   "cell_type": "code",
   "execution_count": 6,
   "id": "4d8be3be",
   "metadata": {},
   "outputs": [
    {
     "data": {
      "text/html": [
       "<div>\n",
       "<style scoped>\n",
       "    .dataframe tbody tr th:only-of-type {\n",
       "        vertical-align: middle;\n",
       "    }\n",
       "\n",
       "    .dataframe tbody tr th {\n",
       "        vertical-align: top;\n",
       "    }\n",
       "\n",
       "    .dataframe thead th {\n",
       "        text-align: right;\n",
       "    }\n",
       "</style>\n",
       "<table border=\"1\" class=\"dataframe\">\n",
       "  <thead>\n",
       "    <tr style=\"text-align: right;\">\n",
       "      <th></th>\n",
       "      <th>sample</th>\n",
       "      <th>age</th>\n",
       "    </tr>\n",
       "  </thead>\n",
       "  <tbody>\n",
       "    <tr>\n",
       "      <th>0</th>\n",
       "      <td>x1</td>\n",
       "      <td>30</td>\n",
       "    </tr>\n",
       "    <tr>\n",
       "      <th>1</th>\n",
       "      <td>x2</td>\n",
       "      <td>45</td>\n",
       "    </tr>\n",
       "    <tr>\n",
       "      <th>2</th>\n",
       "      <td>x3</td>\n",
       "      <td>12</td>\n",
       "    </tr>\n",
       "    <tr>\n",
       "      <th>3</th>\n",
       "      <td>x4</td>\n",
       "      <td>67</td>\n",
       "    </tr>\n",
       "    <tr>\n",
       "      <th>4</th>\n",
       "      <td>x5</td>\n",
       "      <td>32</td>\n",
       "    </tr>\n",
       "    <tr>\n",
       "      <th>5</th>\n",
       "      <td>x6</td>\n",
       "      <td>78</td>\n",
       "    </tr>\n",
       "    <tr>\n",
       "      <th>6</th>\n",
       "      <td>x7</td>\n",
       "      <td>98</td>\n",
       "    </tr>\n",
       "    <tr>\n",
       "      <th>7</th>\n",
       "      <td>x8</td>\n",
       "      <td>8</td>\n",
       "    </tr>\n",
       "    <tr>\n",
       "      <th>8</th>\n",
       "      <td>x9</td>\n",
       "      <td>10</td>\n",
       "    </tr>\n",
       "    <tr>\n",
       "      <th>9</th>\n",
       "      <td>x10</td>\n",
       "      <td>27</td>\n",
       "    </tr>\n",
       "  </tbody>\n",
       "</table>\n",
       "</div>"
      ],
      "text/plain": [
       "  sample  age\n",
       "0     x1   30\n",
       "1     x2   45\n",
       "2     x3   12\n",
       "3     x4   67\n",
       "4     x5   32\n",
       "5     x6   78\n",
       "6     x7   98\n",
       "7     x8    8\n",
       "8     x9   10\n",
       "9    x10   27"
      ]
     },
     "execution_count": 6,
     "metadata": {},
     "output_type": "execute_result"
    }
   ],
   "source": [
    "df=pd.read_excel('estimates.xlsx')\n",
    "df"
   ]
  },
  {
   "cell_type": "code",
   "execution_count": 7,
   "id": "5c1471e3",
   "metadata": {},
   "outputs": [
    {
     "data": {
      "text/plain": [
       "40.7"
      ]
     },
     "execution_count": 7,
     "metadata": {},
     "output_type": "execute_result"
    }
   ],
   "source": [
    "x=df['age']\n",
    "xm=py.mean(x)\n",
    "xm"
   ]
  },
  {
   "cell_type": "code",
   "execution_count": 8,
   "id": "54128306",
   "metadata": {},
   "outputs": [
    {
     "name": "stdout",
     "output_type": "stream",
     "text": [
      "SD : 29.32251694517372 \n",
      "n : 10\n"
     ]
    }
   ],
   "source": [
    "#for confidence level 95%\n",
    "sd=py.std(x)\n",
    "n=len(x)\n",
    "print(\"SD :\",sd,\"\\nn :\",n)"
   ]
  },
  {
   "cell_type": "code",
   "execution_count": 9,
   "id": "ff2b75a3",
   "metadata": {},
   "outputs": [
    {
     "data": {
      "text/plain": [
       "18.174284294023796"
      ]
     },
     "execution_count": 9,
     "metadata": {},
     "output_type": "execute_result"
    }
   ],
   "source": [
    "mrg=1.96*(sd/py.sqrt(n))\n",
    "mrg"
   ]
  },
  {
   "cell_type": "code",
   "execution_count": 10,
   "id": "8eb6252e",
   "metadata": {},
   "outputs": [
    {
     "name": "stdout",
     "output_type": "stream",
     "text": [
      "the interval goes to  22.525715705976207  to  58.874284294023795\n"
     ]
    }
   ],
   "source": [
    "Z=xm+mrg\n",
    "z=xm-mrg\n",
    "print(\"the interval goes to \",z,\" to \",Z)"
   ]
  },
  {
   "cell_type": "code",
   "execution_count": 11,
   "id": "38d8d407",
   "metadata": {},
   "outputs": [
    {
     "data": {
      "text/plain": [
       "23.83056665083732"
      ]
     },
     "execution_count": 11,
     "metadata": {},
     "output_type": "execute_result"
    }
   ],
   "source": [
    "#for confidence level 99%\n",
    "mrg=2.57*(sd/py.sqrt(n))\n",
    "mrg"
   ]
  },
  {
   "cell_type": "code",
   "execution_count": 12,
   "id": "1caa1f15",
   "metadata": {},
   "outputs": [
    {
     "name": "stdout",
     "output_type": "stream",
     "text": [
      "the interval goes to  16.869433349162684  to  64.53056665083733\n"
     ]
    }
   ],
   "source": [
    "Z=xm+mrg\n",
    "z=xm-mrg\n",
    "print(\"the interval goes to \",z,\" to \",Z)"
   ]
  },
  {
   "cell_type": "code",
   "execution_count": 13,
   "id": "b38bb314",
   "metadata": {},
   "outputs": [
    {
     "data": {
      "text/plain": [
       "40.7"
      ]
     },
     "execution_count": 13,
     "metadata": {},
     "output_type": "execute_result"
    }
   ],
   "source": [
    "def pe(x):\n",
    "    length=len(x)\n",
    "    mean=sum(x)/len(x)\n",
    "    \n",
    "    return mean\n",
    "pe(x)"
   ]
  },
  {
   "cell_type": "code",
   "execution_count": 14,
   "id": "26b319b8",
   "metadata": {},
   "outputs": [
    {
     "name": "stderr",
     "output_type": "stream",
     "text": [
      "C:\\Users\\user\\anaconda3\\lib\\site-packages\\seaborn\\distributions.py:2619: FutureWarning: `distplot` is a deprecated function and will be removed in a future version. Please adapt your code to use either `displot` (a figure-level function with similar flexibility) or `histplot` (an axes-level function for histograms).\n",
      "  warnings.warn(msg, FutureWarning)\n"
     ]
    },
    {
     "data": {
      "text/plain": [
       "<AxesSubplot:xlabel='age', ylabel='Density'>"
      ]
     },
     "execution_count": 14,
     "metadata": {},
     "output_type": "execute_result"
    },
    {
     "data": {
      "image/png": "[encoded data removed]",
      "text/plain": [
       "<Figure size 432x288 with 1 Axes>"
      ]
     },
     "metadata": {
      "needs_background": "light"
     },
     "output_type": "display_data"
    }
   ],
   "source": [
    "import seaborn as sns\n",
    "sns.distplot(x)"
   ]
  },
  {
   "cell_type": "code",
   "execution_count": 15,
   "id": "c25e3d70",
   "metadata": {},
   "outputs": [],
   "source": [
    "import numpy as np\n",
    "import scipy.stats as stats\n",
    "import math\n",
    "data = np.array([12, 12, 13, 13, 15, 16, 17, 22, 23, 25, 26, 27, 28, 28, 29])"
   ]
  },
  {
   "cell_type": "code",
   "execution_count": 16,
   "id": "374464db",
   "metadata": {},
   "outputs": [
    {
     "data": {
      "text/plain": [
       "20.4"
      ]
     },
     "execution_count": 16,
     "metadata": {},
     "output_type": "execute_result"
    }
   ],
   "source": [
    "def find_point_estimate(data):\n",
    "    length = len(data)\n",
    "    mean = sum(data)/length\n",
    "    \n",
    "    return mean\n",
    "\n",
    "find_point_estimate(data)"
   ]
  },
  {
   "cell_type": "code",
   "execution_count": 17,
   "id": "4247dcb9",
   "metadata": {},
   "outputs": [
    {
     "data": {
      "text/plain": [
       "40.7"
      ]
     },
     "execution_count": 17,
     "metadata": {},
     "output_type": "execute_result"
    }
   ],
   "source": [
    "def pe(x):\n",
    "    length=len(x)\n",
    "    mean=sum(x)/len(x)\n",
    "    \n",
    "    return mean\n",
    "pe(x)"
   ]
  },
  {
   "cell_type": "code",
   "execution_count": 15,
   "id": "db490fee",
   "metadata": {},
   "outputs": [
    {
     "data": {
      "text/plain": [
       "4.07"
      ]
     },
     "execution_count": 15,
     "metadata": {},
     "output_type": "execute_result"
    }
   ],
   "source": [
    "#point estimate\n",
    "p=xm/n\n",
    "p"
   ]
  }
 ],
 "metadata": {
  "kernelspec": {
   "display_name": "Python 3 (ipykernel)",
   "language": "python",
   "name": "python3"
  },
  "language_info": {
   "codemirror_mode": {
    "name": "ipython",
    "version": 3
   },
   "file_extension": ".py",
   "mimetype": "text/x-python",
   "name": "python",
   "nbconvert_exporter": "python",
   "pygments_lexer": "ipython3",
   "version": "3.9.12"
  }
 },
 "nbformat": 4,
 "nbformat_minor": 5
}

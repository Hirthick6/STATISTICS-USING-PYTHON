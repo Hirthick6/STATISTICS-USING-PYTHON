{
 "cells": [
  {
   "cell_type": "code",
   "execution_count": 1,
   "id": "6d8b5f08",
   "metadata": {},
   "outputs": [],
   "source": [
    "import numpy as np"
   ]
  },
  {
   "cell_type": "code",
   "execution_count": 2,
   "id": "bb0c7577",
   "metadata": {},
   "outputs": [
    {
     "data": {
      "text/plain": [
       "array([3450, 3550, 3650, 3480, 3355, 3310, 3490, 3730, 3540, 3925, 3520,\n",
       "       3480])"
      ]
     },
     "execution_count": 2,
     "metadata": {},
     "output_type": "execute_result"
    }
   ],
   "source": [
    "arr=np.array([3450,3550,3650,3480,3355,3310,3490,3730,3540,3925,3520,3480])\n",
    "arr"
   ]
  },
  {
   "cell_type": "code",
   "execution_count": 6,
   "id": "10075b65",
   "metadata": {},
   "outputs": [
    {
     "name": "stdout",
     "output_type": "stream",
     "text": [
      "sorted [3310 3355 3450 3480 3480 3490 3520 3540 3550 3650 3730 3925]\n"
     ]
    }
   ],
   "source": [
    "arr.sort()\n",
    "print(\"sorted\",arr)"
   ]
  },
  {
   "cell_type": "code",
   "execution_count": 8,
   "id": "d64f9436",
   "metadata": {},
   "outputs": [
    {
     "data": {
      "text/plain": [
       "12"
      ]
     },
     "execution_count": 8,
     "metadata": {},
     "output_type": "execute_result"
    }
   ],
   "source": [
    "n=len(arr)\n",
    "n"
   ]
  },
  {
   "cell_type": "code",
   "execution_count": 9,
   "id": "ec464f81",
   "metadata": {},
   "outputs": [
    {
     "name": "stdout",
     "output_type": "stream",
     "text": [
      "The 25th Quartile Q1 is :  3465\n",
      "The 50th Quartile Q2 is :  3505\n",
      "The 75th Quartile Q3 is :  3600\n"
     ]
    },
    {
     "data": {
      "text/plain": [
       "135.0"
      ]
     },
     "execution_count": 9,
     "metadata": {},
     "output_type": "execute_result"
    }
   ],
   "source": [
    "\n",
    "Q1 = (25/100)*n\n",
    "Q2 = (50/100)*n\n",
    "Q3 = (75/100)*n\n",
    "\n",
    "if Q1.is_integer():\n",
    "    x = (arr[int(Q1-1)] + arr[int(Q1)]) / 2\n",
    "    print(\"The 25th Quartile Q1 is : \", int(x))\n",
    "else:\n",
    "    x = math.ceil(Q1)\n",
    "    print(\"The 25th Quartile Q1 is : \", arr[x-1] + 1)\n",
    "    \n",
    "    \n",
    "    \n",
    "    \n",
    "if Q2.is_integer():\n",
    "    z = (arr[int(Q2-1)] + arr[int(Q2)]) / 2\n",
    "    print(\"The 50th Quartile Q2 is : \", int(z))\n",
    "else:\n",
    "    z = math.ceil(Q2)\n",
    "    print(\"The 25th Quartile Q2 is : \", arr[z-1])\n",
    "    \n",
    "    \n",
    "    \n",
    "    \n",
    "if Q3.is_integer():\n",
    "    y = (arr[int(Q3-1)] + arr[int(Q3)]) / 2\n",
    "    print(\"The 75th Quartile Q3 is : \",int(y))\n",
    "else:\n",
    "    y = math.ceil(Q3)\n",
    "    print(\"The 75th Quartile Q3 is : \", arr[y-1])\n",
    "\n",
    "iqr=y-x\n",
    "iqr"
   ]
  },
  {
   "cell_type": "code",
   "execution_count": null,
   "id": "23862da5",
   "metadata": {},
   "outputs": [],
   "source": []
  },
  {
   "cell_type": "code",
   "execution_count": null,
   "id": "122c2f80",
   "metadata": {},
   "outputs": [],
   "source": []
  }
 ],
 "metadata": {
  "kernelspec": {
   "display_name": "Python 3 (ipykernel)",
   "language": "python",
   "name": "python3"
  },
  "language_info": {
   "codemirror_mode": {
    "name": "ipython",
    "version": 3
   },
   "file_extension": ".py",
   "mimetype": "text/x-python",
   "name": "python",
   "nbconvert_exporter": "python",
   "pygments_lexer": "ipython3",
   "version": "3.9.12"
  }
 },
 "nbformat": 4,
 "nbformat_minor": 5
}

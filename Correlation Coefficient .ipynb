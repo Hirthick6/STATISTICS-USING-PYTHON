{
 "cells": [
  {
   "cell_type": "code",
   "execution_count": 4,
   "id": "307885d5",
   "metadata": {},
   "outputs": [
    {
     "data": {
      "text/plain": [
       "0.9304905807411789"
      ]
     },
     "execution_count": 4,
     "metadata": {},
     "output_type": "execute_result"
    }
   ],
   "source": [
    "import numpy as np\n",
    "from matplotlib import pyplot\n",
    "import pandas as pd\n",
    "import math\n",
    "import seaborn as sb#for sqrt\n",
    "\n",
    "def sdx(data_x,mean_x,no_of_terms):\n",
    "    return math.sqrt(sum(np.square(data_x-mean_x)/(no_of_terms-1)))\n",
    "\n",
    "def sdy(data_y,mean_y,no_of_terms):\n",
    "    return math.sqrt(sum(np.square(data_y-mean_y)/(no_of_terms-1)))\n",
    "\n",
    "def sample_covariance(data_x,mean_x,data_y,mean_y,no_of_terms):\n",
    "    num= sum(np.subtract(data_x,mean_x)*np.subtract(data_y,mean_y))\n",
    "    return num/(no_of_terms-1)\n",
    "\n",
    "def correlation_coefficient(data_x,mean_x,data_y,mean_y,no_of_terms):\n",
    "    \n",
    "    s_xy=sample_covariance(data_x,mean_x,data_y,mean_y,no_of_terms)\n",
    "    s_x=standard_deviation_x(data_x,mean_x,no_of_terms)\n",
    "    s_y=standard_deviation_y(data_y,mean_y,no_of_terms)\n",
    "    correlation= s_xy/(s_x*s_y)\n",
    "    return correlation\n",
    "\n",
    "data = pd.read_csv('Corelation_Data.csv')\n",
    "\n",
    "data_x= np.array(data.X)\n",
    "data_y = np.array(data.Y)\n",
    "no_of_terms= len(data_y)\n",
    "mean_x = sum(data_x)/no_of_terms\n",
    "mean_y = sum(data_y)/no_of_terms\n",
    "\n",
    "correlation_coefficient(data_x,mean_x,data_y,mean_y,no_of_terms)"
   ]
  },
  {
   "cell_type": "code",
   "execution_count": null,
   "id": "2e06fb4d",
   "metadata": {},
   "outputs": [],
   "source": []
  }
 ],
 "metadata": {
  "kernelspec": {
   "display_name": "Python 3 (ipykernel)",
   "language": "python",
   "name": "python3"
  },
  "language_info": {
   "codemirror_mode": {
    "name": "ipython",
    "version": 3
   },
   "file_extension": ".py",
   "mimetype": "text/x-python",
   "name": "python",
   "nbconvert_exporter": "python",
   "pygments_lexer": "ipython3",
   "version": "3.9.12"
  }
 },
 "nbformat": 4,
 "nbformat_minor": 5
}

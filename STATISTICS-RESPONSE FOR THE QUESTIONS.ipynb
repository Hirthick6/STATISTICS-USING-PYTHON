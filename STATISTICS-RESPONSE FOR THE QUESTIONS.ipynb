{
 "cells": [
  {
   "cell_type": "markdown",
   "id": "9b3b0bd5",
   "metadata": {},
   "source": [
    "# 1.The response of the questions in 3 alternatives sample of 120 responser provides 60 A ,24 B,36 C.Show the Frequency , Relative Frequency,Precentage Frequency."
   ]
  },
  {
   "cell_type": "code",
   "execution_count": 25,
   "id": "760a54f1",
   "metadata": {},
   "outputs": [
    {
     "data": {
      "text/html": [
       "<div>\n",
       "<style scoped>\n",
       "    .dataframe tbody tr th:only-of-type {\n",
       "        vertical-align: middle;\n",
       "    }\n",
       "\n",
       "    .dataframe tbody tr th {\n",
       "        vertical-align: top;\n",
       "    }\n",
       "\n",
       "    .dataframe thead th {\n",
       "        text-align: right;\n",
       "    }\n",
       "</style>\n",
       "<table border=\"1\" class=\"dataframe\">\n",
       "  <thead>\n",
       "    <tr style=\"text-align: right;\">\n",
       "      <th></th>\n",
       "      <th>QUESTIONS</th>\n",
       "      <th>FREQUENCY</th>\n",
       "    </tr>\n",
       "  </thead>\n",
       "  <tbody>\n",
       "    <tr>\n",
       "      <th>0</th>\n",
       "      <td>A</td>\n",
       "      <td>60</td>\n",
       "    </tr>\n",
       "    <tr>\n",
       "      <th>1</th>\n",
       "      <td>B</td>\n",
       "      <td>24</td>\n",
       "    </tr>\n",
       "    <tr>\n",
       "      <th>2</th>\n",
       "      <td>C</td>\n",
       "      <td>36</td>\n",
       "    </tr>\n",
       "  </tbody>\n",
       "</table>\n",
       "</div>"
      ],
      "text/plain": [
       "  QUESTIONS  FREQUENCY\n",
       "0         A         60\n",
       "1         B         24\n",
       "2         C         36"
      ]
     },
     "execution_count": 25,
     "metadata": {},
     "output_type": "execute_result"
    }
   ],
   "source": [
    "import pandas as pd\n",
    "import numpy as np\n",
    "import matplotlib.pyplot as plt\n",
    "df=pd.read_csv(\"db1.csv\")\n",
    "df"
   ]
  },
  {
   "cell_type": "code",
   "execution_count": 26,
   "id": "91a47132",
   "metadata": {},
   "outputs": [
    {
     "data": {
      "text/html": [
       "<div>\n",
       "<style scoped>\n",
       "    .dataframe tbody tr th:only-of-type {\n",
       "        vertical-align: middle;\n",
       "    }\n",
       "\n",
       "    .dataframe tbody tr th {\n",
       "        vertical-align: top;\n",
       "    }\n",
       "\n",
       "    .dataframe thead th {\n",
       "        text-align: right;\n",
       "    }\n",
       "</style>\n",
       "<table border=\"1\" class=\"dataframe\">\n",
       "  <thead>\n",
       "    <tr style=\"text-align: right;\">\n",
       "      <th></th>\n",
       "      <th>QUESTIONS</th>\n",
       "      <th>FREQUENCY</th>\n",
       "      <th>RELATIVE FREQUENCY</th>\n",
       "      <th>PERCENT FREQUENCY</th>\n",
       "    </tr>\n",
       "  </thead>\n",
       "  <tbody>\n",
       "    <tr>\n",
       "      <th>0</th>\n",
       "      <td>A</td>\n",
       "      <td>60</td>\n",
       "      <td>0.5</td>\n",
       "      <td>50</td>\n",
       "    </tr>\n",
       "    <tr>\n",
       "      <th>1</th>\n",
       "      <td>B</td>\n",
       "      <td>24</td>\n",
       "      <td>0.2</td>\n",
       "      <td>20</td>\n",
       "    </tr>\n",
       "    <tr>\n",
       "      <th>2</th>\n",
       "      <td>C</td>\n",
       "      <td>36</td>\n",
       "      <td>0.3</td>\n",
       "      <td>30</td>\n",
       "    </tr>\n",
       "    <tr>\n",
       "      <th>3</th>\n",
       "      <td>Total</td>\n",
       "      <td>120</td>\n",
       "      <td>1.0</td>\n",
       "      <td>100</td>\n",
       "    </tr>\n",
       "  </tbody>\n",
       "</table>\n",
       "</div>"
      ],
      "text/plain": [
       "  QUESTIONS  FREQUENCY  RELATIVE FREQUENCY  PERCENT FREQUENCY\n",
       "0         A         60                 0.5                 50\n",
       "1         B         24                 0.2                 20\n",
       "2         C         36                 0.3                 30\n",
       "3     Total        120                 1.0                100"
      ]
     },
     "execution_count": 26,
     "metadata": {},
     "output_type": "execute_result"
    }
   ],
   "source": [
    "import pandas as pd\n",
    "import matplotlib.pyplot as plt\n",
    "dg=pd.read_csv(\"db2.csv\")\n",
    "dg"
   ]
  },
  {
   "cell_type": "code",
   "execution_count": 27,
   "id": "3bf4978a",
   "metadata": {},
   "outputs": [
    {
     "data": {
      "text/plain": [
       "0    60\n",
       "1    24\n",
       "2    36\n",
       "Name: FREQUENCY, dtype: int64"
      ]
     },
     "execution_count": 27,
     "metadata": {},
     "output_type": "execute_result"
    }
   ],
   "source": [
    "df.FREQUENCY"
   ]
  },
  {
   "cell_type": "code",
   "execution_count": 28,
   "id": "e5e7f5fb",
   "metadata": {},
   "outputs": [
    {
     "data": {
      "text/plain": [
       "array([60, 24, 36], dtype=int64)"
      ]
     },
     "execution_count": 28,
     "metadata": {},
     "output_type": "execute_result"
    }
   ],
   "source": [
    "frequency=np.array(df.FREQUENCY)\n",
    "frequency"
   ]
  },
  {
   "cell_type": "code",
   "execution_count": 29,
   "id": "994f768e",
   "metadata": {},
   "outputs": [
    {
     "data": {
      "text/plain": [
       "120"
      ]
     },
     "execution_count": 29,
     "metadata": {},
     "output_type": "execute_result"
    }
   ],
   "source": [
    "total=frequency.sum()\n",
    "total"
   ]
  },
  {
   "cell_type": "code",
   "execution_count": 30,
   "id": "aef45fc0",
   "metadata": {},
   "outputs": [
    {
     "data": {
      "text/plain": [
       "array([0.5, 0.2, 0.3])"
      ]
     },
     "execution_count": 30,
     "metadata": {},
     "output_type": "execute_result"
    }
   ],
   "source": [
    "relative_frequency = np.array(frequency/total)\n",
    "relative_frequency"
   ]
  },
  {
   "cell_type": "code",
   "execution_count": 31,
   "id": "857ac19c",
   "metadata": {},
   "outputs": [
    {
     "data": {
      "text/plain": [
       "1.0"
      ]
     },
     "execution_count": 31,
     "metadata": {},
     "output_type": "execute_result"
    }
   ],
   "source": [
    "total=relative_frequency.sum()\n",
    "total"
   ]
  },
  {
   "cell_type": "code",
   "execution_count": 32,
   "id": "409d2dd1",
   "metadata": {},
   "outputs": [
    {
     "data": {
      "text/plain": [
       "array([50., 20., 30.])"
      ]
     },
     "execution_count": 32,
     "metadata": {},
     "output_type": "execute_result"
    }
   ],
   "source": [
    "percent_frequency = np.array(relative_frequency*100)\n",
    "percent_frequency"
   ]
  },
  {
   "cell_type": "code",
   "execution_count": 33,
   "id": "a0e05fd5",
   "metadata": {},
   "outputs": [
    {
     "data": {
      "text/plain": [
       "100.0"
      ]
     },
     "execution_count": 33,
     "metadata": {},
     "output_type": "execute_result"
    }
   ],
   "source": [
    "total=percent_frequency.sum()\n",
    "total"
   ]
  },
  {
   "cell_type": "markdown",
   "id": "ea274139",
   "metadata": {},
   "source": [
    "# Frequency"
   ]
  },
  {
   "cell_type": "code",
   "execution_count": 36,
   "id": "d038e132",
   "metadata": {},
   "outputs": [
    {
     "data": {
      "text/plain": [
       "<function matplotlib.pyplot.show(close=None, block=None)>"
      ]
     },
     "execution_count": 36,
     "metadata": {},
     "output_type": "execute_result"
    },
    {
     "data": {
      "image/png": "[encoded data removed]",
      "text/plain": [
       "<Figure size 432x288 with 1 Axes>"
      ]
     },
     "metadata": {
      "needs_background": "light"
     },
     "output_type": "display_data"
    }
   ],
   "source": [
    "%matplotlib inline\n",
    "import matplotlib.pyplot as plt\n",
    "colour = [\"blue\",\"green\",\"red\",\"yellow\",\"orange\"]\n",
    "plt.bar(df.QUESTIONS,frequency,width = 0.5,color = colour)\n",
    "plt.xlabel(\"QUESTIONS\")\n",
    "plt.ylabel(\"Frequency\")\n",
    "plt.title(\"Bar Graph for Frequency\")\n",
    "plt.show"
   ]
  },
  {
   "cell_type": "markdown",
   "id": "af2b91e6",
   "metadata": {},
   "source": [
    "# Relative Frequency"
   ]
  },
  {
   "cell_type": "code",
   "execution_count": 37,
   "id": "87d88e8c",
   "metadata": {},
   "outputs": [
    {
     "data": {
      "text/plain": [
       "<function matplotlib.pyplot.show(close=None, block=None)>"
      ]
     },
     "execution_count": 37,
     "metadata": {},
     "output_type": "execute_result"
    },
    {
     "data": {
      "image/png": "[encoded data removed]",
      "text/plain": [
       "<Figure size 432x288 with 1 Axes>"
      ]
     },
     "metadata": {
      "needs_background": "light"
     },
     "output_type": "display_data"
    }
   ],
   "source": [
    "plt.bar(df.QUESTIONS,relative_frequency,width = 0.5,color = colour)\n",
    "plt.xlabel(\"QUESTIONS\")\n",
    "plt.ylabel(\"Relative_Frequency\")\n",
    "plt.title(\"Bar Graph for Relative_Frequency\")\n",
    "plt.show"
   ]
  },
  {
   "cell_type": "markdown",
   "id": "6de251c2",
   "metadata": {},
   "source": [
    "# Percentage Frequency"
   ]
  },
  {
   "cell_type": "code",
   "execution_count": 39,
   "id": "1ba76919",
   "metadata": {},
   "outputs": [
    {
     "data": {
      "text/plain": [
       "<function matplotlib.pyplot.show(close=None, block=None)>"
      ]
     },
     "execution_count": 39,
     "metadata": {},
     "output_type": "execute_result"
    },
    {
     "data": {
      "image/png": "[encoded data removed]",
      "text/plain": [
       "<Figure size 432x288 with 1 Axes>"
      ]
     },
     "metadata": {
      "needs_background": "light"
     },
     "output_type": "display_data"
    }
   ],
   "source": [
    "plt.bar(df.QUESTIONS,percent_frequency,width = 0.5,color = colour)\n",
    "plt.xlabel(\"QUESTIONS\")\n",
    "plt.ylabel(\"Percent_Frequency\")\n",
    "plt.title(\"Bar Graph for Percent_Frequency\")\n",
    "plt.show"
   ]
  },
  {
   "cell_type": "markdown",
   "id": "e34dc2f8",
   "metadata": {},
   "source": [
    "# Line Plot Graph"
   ]
  },
  {
   "cell_type": "code",
   "execution_count": 43,
   "id": "4f0c4567",
   "metadata": {},
   "outputs": [
    {
     "data": {
      "text/plain": [
       "Text(0, 0.5, 'Frequency')"
      ]
     },
     "execution_count": 43,
     "metadata": {},
     "output_type": "execute_result"
    },
    {
     "data": {
      "image/png": "[encoded data removed]",
      "text/plain": [
       "<Figure size 720x432 with 1 Axes>"
      ]
     },
     "metadata": {
      "needs_background": "light"
     },
     "output_type": "display_data"
    }
   ],
   "source": [
    "from matplotlib import rcParams\n",
    "rcParams['figure.figsize']=10,6\n",
    "plt.plot(df.FREQUENCY)\n",
    "plt.grid(True,color='k',linestyle=':')\n",
    "plt.title(\"line Plot Graph\")\n",
    "plt.xlabel(\"QUESTIONS\")\n",
    "plt.ylabel(\"Frequency\")"
   ]
  },
  {
   "cell_type": "markdown",
   "id": "5fbb4eda",
   "metadata": {},
   "source": [
    "# Pie-Chart"
   ]
  },
  {
   "cell_type": "code",
   "execution_count": 46,
   "id": "219c84c3",
   "metadata": {},
   "outputs": [
    {
     "data": {
      "text/plain": [
       "<function matplotlib.pyplot.show(close=None, block=None)>"
      ]
     },
     "execution_count": 46,
     "metadata": {},
     "output_type": "execute_result"
    },
    {
     "data": {
      "image/png": "[encoded data removed]",
      "text/plain": [
       "<Figure size 720x432 with 1 Axes>"
      ]
     },
     "metadata": {},
     "output_type": "display_data"
    }
   ],
   "source": [
    "plt.pie(percent_frequency,labels=df.QUESTIONS,shadow=True,autopct='%1.1f%%',radius=1.5)\n",
    "plt.axis(\"equal\")\n",
    "plt.title(\"Bar Graph for Percent_Frequency\")\n",
    "plt.show"
   ]
  },
  {
   "cell_type": "markdown",
   "id": "9b0dada4",
   "metadata": {},
   "source": [
    "# Donut Chart"
   ]
  },
  {
   "cell_type": "code",
   "execution_count": 47,
   "id": "27d50341",
   "metadata": {},
   "outputs": [
    {
     "data": {
      "text/plain": [
       "<function matplotlib.pyplot.show(close=None, block=None)>"
      ]
     },
     "execution_count": 47,
     "metadata": {},
     "output_type": "execute_result"
    },
    {
     "data": {
      "image/png": "[encoded data removed]",
      "text/plain": [
       "<Figure size 720x432 with 1 Axes>"
      ]
     },
     "metadata": {},
     "output_type": "display_data"
    }
   ],
   "source": [
    "plt.pie(percent_frequency,labels=df.QUESTIONS,shadow=True,autopct='%1.1f%%',radius=1.5)\n",
    "plt.axis(\"equal\")\n",
    "plt.title(\"Bar Graph for Percent_Frequency\")\n",
    "circle=plt.Circle(xy=(0,0),radius=.75,facecolor='white')\n",
    "plt.gca().add_artist(circle)\n",
    "plt.show"
   ]
  },
  {
   "cell_type": "code",
   "execution_count": null,
   "id": "8ab4bc07",
   "metadata": {},
   "outputs": [],
   "source": []
  }
 ],
 "metadata": {
  "kernelspec": {
   "display_name": "Python 3 (ipykernel)",
   "language": "python",
   "name": "python3"
  },
  "language_info": {
   "codemirror_mode": {
    "name": "ipython",
    "version": 3
   },
   "file_extension": ".py",
   "mimetype": "text/x-python",
   "name": "python",
   "nbconvert_exporter": "python",
   "pygments_lexer": "ipython3",
   "version": "3.9.12"
  }
 },
 "nbformat": 4,
 "nbformat_minor": 5
}
